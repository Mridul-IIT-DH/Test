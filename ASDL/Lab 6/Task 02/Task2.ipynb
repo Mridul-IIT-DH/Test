{
 "cells": [
  {
   "cell_type": "markdown",
   "metadata": {},
   "source": [
    "#### Task 2"
   ]
  },
  {
   "cell_type": "code",
   "execution_count": 1,
   "metadata": {},
   "outputs": [],
   "source": [
    "import pandas as pd\n",
    "import matplotlib.pyplot as plt\n",
    "\n",
    "def t2_q1_sol():\n",
    "\n",
    "  df = pd.read_csv('iris.csv')\n",
    "\n",
    "  print(f'Number of data points: {df.shape[0]}')\n",
    "\n",
    "  print(f'Data types of columns:\\n{df.dtypes}')\n",
    "\n",
    "  print(f'Column names: {df.columns.tolist()}')\n",
    "\n",
    "  num_species = df['Species'].nunique()\n",
    "  print(f'Number of Species: {num_species}')\n",
    "\n",
    "t2_q1_sol()\n",
    "\n",
    "def correct_iris_data(df):\n",
    "\n",
    "  df.loc[34] = [4.9, 3.1, 1.5, 0.2, \"setosa\"]\n",
    "\n",
    "  df.loc[37] = [4.9, 3.6, 1.4, 0.1, \"setosa\"]\n",
    "  return df\n",
    "\n",
    "df = pd.read_csv('iris.csv')\n",
    "df = correct_iris_data(df)\n",
    "\n",
    "df['Petal.Ratio'] = df['Petal.Length'] / df['Petal.Width']\n",
    "df['Sepal.Ratio'] = df['Sepal.Length'] / df['Sepal.Width']\n",
    "\n",
    "df.to_csv('iris_corrected.csv', index=False)\n",
    "\n",
    "species_agg = df.groupby('Species').agg(\n",
    "  Petal_Ratio_Mean=('Petal.Ratio', 'mean'),\n",
    "  Petal_Ratio_Median=('Petal.Ratio', 'median'),\n",
    "  Petal_Ratio_Min=('Petal.Ratio', 'min'),\n",
    "  Petal_Ratio_Max=('Petal.Ratio', 'max'),\n",
    "  Petal_Ratio_Std=('Petal.Ratio', 'std'),\n",
    "  Sepal_Ratio_Mean=('Sepal.Ratio', 'mean'),\n",
    "  Sepal_Ratio_Median=('Sepal.Ratio', 'median'),\n",
    "  Sepal_Ratio_Min=('Sepal.Ratio', 'min'),\n",
    "  Sepal_Ratio_Max=('Sepal.Ratio', 'max'),\n",
    "  Sepal_Ratio_Std=('Sepal.Ratio', 'std')\n",
    ")\n",
    "\n",
    "print(species_agg)\n",
    "\n",
    "plt.figure(figsize=(10, 6))\n",
    "colors = {'setosa': 'red', 'versicolor': 'green', 'virginica': 'blue'}\n",
    "\n",
    "plt.scatter(df['Sepal.Ratio'], df['Petal.Ratio'], c=df['Species'].apply(lambda x: colors[x]), alpha=0.7)\n",
    "plt.xlabel('Sepal Ratio')\n",
    "plt.ylabel('Petal Ratio')\n",
    "plt.title('Iris Specimens: Sepal Ratio vs Petal Ratio')\n",
    "plt.grid(True)\n",
    "\n",
    "plt.savefig('iris_scatter.pdf')\n",
    "plt.show()"
   ]
  }
 ],
 "metadata": {
  "kernelspec": {
   "display_name": "Python 3",
   "language": "python",
   "name": "python3"
  },
  "language_info": {
   "codemirror_mode": {
    "name": "ipython",
    "version": 3
   },
   "file_extension": ".py",
   "mimetype": "text/x-python",
   "name": "python",
   "nbconvert_exporter": "python",
   "pygments_lexer": "ipython3",
   "version": "3.12.4"
  }
 },
 "nbformat": 4,
 "nbformat_minor": 2
}
